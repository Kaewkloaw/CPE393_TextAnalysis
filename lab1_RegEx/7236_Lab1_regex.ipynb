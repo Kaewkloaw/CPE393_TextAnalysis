{
  "cells": [
    {
      "cell_type": "markdown",
      "metadata": {
        "id": "l58AT0kVvjSc"
      },
      "source": [
        "#Class"
      ]
    },
    {
      "cell_type": "markdown",
      "metadata": {
        "id": "1UetmBnBtqJ8"
      },
      "source": [
        "## 1. Loading data"
      ]
    },
    {
      "cell_type": "code",
      "execution_count": 270,
      "metadata": {
        "colab": {
          "base_uri": "https://localhost:8080/"
        },
        "id": "uytZd2W0efYr",
        "outputId": "c59c114b-8ed9-4c76-9efb-6b6cdffb2cf9"
      },
      "outputs": [
        {
          "name": "stdout",
          "output_type": "stream",
          "text": [
            "Requirement already satisfied: nltk in /usr/local/lib/python3.12/dist-packages (3.9.1)\n",
            "Requirement already satisfied: click in /usr/local/lib/python3.12/dist-packages (from nltk) (8.2.1)\n",
            "Requirement already satisfied: joblib in /usr/local/lib/python3.12/dist-packages (from nltk) (1.5.1)\n",
            "Requirement already satisfied: regex>=2021.8.3 in /usr/local/lib/python3.12/dist-packages (from nltk) (2024.11.6)\n",
            "Requirement already satisfied: tqdm in /usr/local/lib/python3.12/dist-packages (from nltk) (4.67.1)\n"
          ]
        }
      ],
      "source": [
        "!pip install nltk"
      ]
    },
    {
      "cell_type": "code",
      "execution_count": 271,
      "metadata": {
        "colab": {
          "base_uri": "https://localhost:8080/"
        },
        "id": "dH6bPjy_N4PA",
        "outputId": "34b1bac1-396e-41ae-b1af-14b74ab6b7fa"
      },
      "outputs": [
        {
          "name": "stdout",
          "output_type": "stream",
          "text": [
            "Drive already mounted at /content/drive; to attempt to forcibly remount, call drive.mount(\"/content/drive\", force_remount=True).\n"
          ]
        }
      ],
      "source": [
        "from google.colab import drive\n",
        "drive.mount('/content/drive')"
      ]
    },
    {
      "cell_type": "code",
      "execution_count": 272,
      "metadata": {
        "colab": {
          "base_uri": "https://localhost:8080/"
        },
        "id": "CyYMNKLEN-ZR",
        "outputId": "973f7698-d5ed-4803-f862-65922323732a"
      },
      "outputs": [
        {
          "name": "stdout",
          "output_type": "stream",
          "text": [
            "True\n"
          ]
        }
      ],
      "source": [
        "import os\n",
        "\n",
        "file_path = '/content/drive/MyDrive/CPE393/books.txt'\n",
        "print(os.path.exists(file_path))"
      ]
    },
    {
      "cell_type": "code",
      "execution_count": 273,
      "metadata": {
        "colab": {
          "base_uri": "https://localhost:8080/"
        },
        "id": "svn1qSw2tqJ-",
        "outputId": "19a93b10-4916-4464-ad28-ed425bc959df"
      },
      "outputs": [
        {
          "name": "stderr",
          "output_type": "stream",
          "text": [
            "[nltk_data] Downloading package punkt_tab to /root/nltk_data...\n",
            "[nltk_data]   Package punkt_tab is already up-to-date!\n"
          ]
        }
      ],
      "source": [
        "import nltk\n",
        "# nltk.download('all')\n",
        "# nltk.download() #for the missing library\n",
        "nltk.download('punkt_tab')\n",
        "dir = '/content/drive/MyDrive/CPE393/'\n",
        "f = open(dir+'books.txt', encoding='utf-8')\n",
        "raw = f.read()\n",
        "tokens = nltk.word_tokenize(raw)"
      ]
    },
    {
      "cell_type": "code",
      "execution_count": 274,
      "metadata": {
        "colab": {
          "base_uri": "https://localhost:8080/"
        },
        "id": "nf0L1yoGtqJ_",
        "outputId": "cde9705e-63ac-4116-a616-bcb432c41d5a"
      },
      "outputs": [
        {
          "name": "stdout",
          "output_type": "stream",
          "text": [
            "[',', 'eating', 'banquets', 'in', 'the', 'Great', 'Hall', ',', 'sleep\\xading', 'in', 'his', 'four-poster', 'bed', 'in', 'the', 'tower', 'dormitory', ',', 'visiting', 'the', 'gamekeeper', ',', 'Hagrid', ',', 'in', 'his', 'cabin', 'next', 'to', 'the', 'Forbidden', 'Forest', 'in', 'the', 'grounds', ',', 'and', ',', 'especially', ',', 'Quidditch', ',', 'the', 'most', 'popular', 'sport', 'in', 'the', 'wizarding', 'world', '(', 'six', 'tall', 'goal', 'posts', ',', 'four', 'flying', 'balls', ',', 'and', 'four\\xadteen', 'players', 'on', 'broomsticks', ')', '.', 'All', 'Harry', '’', 's', 'spellbooks', ',', 'his', 'wand', ',', 'robes', ',', 'cauldron', ',', 'and', 'top-of-the-line', 'Nimbus', 'Two', 'Thousand', 'broomstick', 'had', 'been', 'locked', 'in', 'a', 'cupboard', 'under', 'the', 'stairs', 'by', 'Uncle', 'Vernon', 'the', 'instant']\n"
          ]
        }
      ],
      "source": [
        "print(tokens[1000:1100])"
      ]
    },
    {
      "cell_type": "markdown",
      "metadata": {
        "id": "4fD14zKatqJ_"
      },
      "source": [
        "## 2. Regular expression"
      ]
    },
    {
      "cell_type": "code",
      "execution_count": 275,
      "metadata": {
        "id": "Zg_NzCAL5mKX"
      },
      "outputs": [],
      "source": [
        "tokens = [w.lower() for w in tokens]"
      ]
    },
    {
      "cell_type": "code",
      "execution_count": 276,
      "metadata": {
        "colab": {
          "base_uri": "https://localhost:8080/"
        },
        "collapsed": true,
        "id": "RBj9GUiitqKA",
        "outputId": "01a9db5c-ed69-4a58-aba0-942ba113379b"
      },
      "outputs": [
        {
          "data": {
            "text/plain": [
              "['reserved',\n",
              " 'published',\n",
              " 'registered',\n",
              " 'related',\n",
              " 'reproduced',\n",
              " 'stored',\n",
              " 'transmitted',\n",
              " 'opened',\n",
              " 'released',\n",
              " 'printed']"
            ]
          },
          "execution_count": 276,
          "metadata": {},
          "output_type": "execute_result"
        }
      ],
      "source": [
        "import re\n",
        "\n",
        "[w for w in tokens if re.search('ed$', w)][:10]"
      ]
    },
    {
      "cell_type": "markdown",
      "metadata": {
        "id": "Pae2H5xm3iwU"
      },
      "source": [
        "---\n",
        "**1. What kind of input that matches, and what do not? Also, give a brief explanation.**\n",
        "\n",
        "Ans: **ed$ หมายถึง ค้นหาคำที่ลงท้ายด้วยตัวอักษร \"ed\"**<br>\n",
        "ดังนั้นคำที่แสดงออกมาจะเป็นคำที่ลงท้ายด้วย \"ed\" เช่น reserved, published<br>\n",
        "ในทางกลับกันคำที่ไม่ตรงกับรูปแบบนี้ก็คือคำที่ไม่ได้ลงท้ายด้วย \"ed\" เช่น <br>\n",
        "- education (มี ed อยู่ข้างหน้า ไม่ใช่ท้ายคำ)<br>\n",
        "- fast (ไม่ลงท้ายด้วย ed)\n",
        "---"
      ]
    },
    {
      "cell_type": "code",
      "execution_count": 277,
      "metadata": {
        "colab": {
          "base_uri": "https://localhost:8080/"
        },
        "id": "EJnFJbYNtqKA",
        "outputId": "4f26a207-3b77-4db5-92bd-b6b510b5db52"
      },
      "outputs": [
        {
          "data": {
            "text/plain": [
              "['dejected',\n",
              " 'adjusted',\n",
              " 'rejected',\n",
              " 'rejected',\n",
              " 'dejected',\n",
              " 'adjusted',\n",
              " 'adjusted',\n",
              " 'adjusted',\n",
              " 'adjusted']"
            ]
          },
          "execution_count": 277,
          "metadata": {},
          "output_type": "execute_result"
        }
      ],
      "source": [
        "[w for w in tokens if re.search('^..j..t..$', w)]"
      ]
    },
    {
      "cell_type": "markdown",
      "metadata": {
        "id": "DqBuWKiY3wr3"
      },
      "source": [
        "---\n",
        "**2. What kind of input that matches, and what do not? Also, give a brief explanation.**\n",
        "\n",
        "Ans: **^..j..t..$ หมายถึง ค้นหาคำที่มี 8 ตัว ซึ่งตัวที่ 3 เป็น \"j\" และตัวที่ 6  เป็น \"t\" ส่วนตัวที่เหลือเป็นอะไรก็ได้** <br>\n",
        "ดังนั้นคำที่แสดงออกมาจะเป็นคำที่มี 8 ตัว ซึ่งตัวที่ 3 เป็น \"j\" และตัวที่ 6  เป็น \"t\" ส่วนตัวที่เหลือเป็นอะไรก็ได้เช่น dejected, adjusted<br>\n",
        "ในทางกลับกันคำที่ไม่ตรงกับรูปแบบนี้ก็คือคำที่มีตัวอักษรไม่เท่ากับ 8 ตัวหรือตัวที่ 3 ไม่เป็น \"j\" และตัวที่ 6 ไม่เป็น \"t\" <br>\n",
        "- reject (ความยาวแค่ 6 ตัว) <br>\n",
        "- projected (ความยาวเกิน 8 ตัว) <br>\n",
        "- objected (ตำแหน่งที่ 3 ไม่ใช่ j)\n",
        "---"
      ]
    },
    {
      "cell_type": "code",
      "execution_count": 278,
      "metadata": {
        "colab": {
          "base_uri": "https://localhost:8080/"
        },
        "id": "xx817PT4tqKA",
        "outputId": "d3354469-1f63-4367-df86-8722dbc9a9a5"
      },
      "outputs": [
        {
          "data": {
            "text/plain": [
              "['sport',\n",
              " 'sports',\n",
              " 'sport',\n",
              " 'sport',\n",
              " 'sports',\n",
              " 'sport',\n",
              " 'sports',\n",
              " 'sports',\n",
              " 'sports',\n",
              " 'sports']"
            ]
          },
          "execution_count": 278,
          "metadata": {},
          "output_type": "execute_result"
        }
      ],
      "source": [
        "[w for w in tokens if re.search('^spo.ts?$', w)][:10]"
      ]
    },
    {
      "cell_type": "markdown",
      "metadata": {
        "id": "GGPqQ1cw4B0F"
      },
      "source": [
        "---\n",
        "**3. What kind of input that matches, and what do not? Also, give a brief explanation.**\n",
        "\n",
        "Ans: **^spo.ts?$ หมายถึง ค้นหาคำที่ขึ้นต้นด้วย \"spo\" ตามด้วยตัวอักษรใด ๆ หนึ่งตัว และตามด้วย \"t\" จากนั้นอาจจะมี \"s\" 1 ตัวหรือไม่มีเลยก็ได้** <br>\n",
        "ดังนั้นคำที่ตรงกับรูปแบบนี้จะเป็นคำที่มีความยาว 5 หรือ 6 ตัวอักษร เช่น sport, spots <br>\n",
        "ในทางกลับกัน คำที่ไม่ตรงคือคำที่ไม่ได้ขึ้นต้นด้วย \"spo\" หรือไม่มี \"t\" เป็นตัวรองสุดท้าย เช่น <br>\n",
        "- spoon (ไม่มีตัว t) <br>\n",
        "- spore (ไม่มีตัว t) <br>\n",
        "- sporting (เกิน 6 ตัวอักษร)\n",
        "---"
      ]
    },
    {
      "cell_type": "code",
      "execution_count": 279,
      "metadata": {
        "colab": {
          "base_uri": "https://localhost:8080/"
        },
        "collapsed": true,
        "id": "HfL6pzmdtqKA",
        "outputId": "7beb5ba8-3694-4247-e441-ae5f3d8b4af7"
      },
      "outputs": [
        {
          "data": {
            "text/plain": [
              "['chamber',\n",
              " 'by',\n",
              " 'by',\n",
              " 'books',\n",
              " 'for',\n",
              " 'f.',\n",
              " 'driver',\n",
              " 'foul-weather',\n",
              " 'friend',\n",
              " 'copyright']"
            ]
          },
          "execution_count": 279,
          "metadata": {},
          "output_type": "execute_result"
        }
      ],
      "source": [
        "[w for w in tokens if re.search('^[b-f]', w)][:10]"
      ]
    },
    {
      "cell_type": "markdown",
      "metadata": {
        "id": "OBc81Lun4CyE"
      },
      "source": [
        "---\n",
        "**4. What kind of input that matches, and what do not? Also, give a brief explanation.**\n",
        "\n",
        "Ans: **^[b-f] หมายถึง ค้นหาคำที่ขึ้นต้นด้วยตัวอักษรใดก็ได้ระหว่าง b ถึง f (รวม b, c, d, e, f)** <br>\n",
        "ดังนั้นคำที่ตรงกับรูปแบบนี้คือคำที่อักษรตัวแรกอยู่ในช่วง b–f เช่น banana, cat, dog, elephant, fish <br>\n",
        "ในทางกลับกันคำที่ไม่ตรงคือคำที่ไม่ได้ขึ้นต้นด้วย b–f เช่น <br>\n",
        "- apple (ขึ้นต้นด้วย a) <br>\n",
        "- grape (ขึ้นต้นด้วย g) <br>\n",
        "- zebra (ขึ้นต้นด้วย z)\n",
        "---\n"
      ]
    },
    {
      "cell_type": "code",
      "execution_count": 280,
      "metadata": {
        "colab": {
          "base_uri": "https://localhost:8080/"
        },
        "collapsed": true,
        "id": "E3zlGVrVtqKB",
        "outputId": "146f5c3d-9abd-403f-8871-e099e6cd8a87"
      },
      "outputs": [
        {
          "data": {
            "text/plain": [
              "['but', 'but', 'far', 'but', 'but', 'but', 'fat', 'but', 'fat', 'but']"
            ]
          },
          "execution_count": 280,
          "metadata": {},
          "output_type": "execute_result"
        }
      ],
      "source": [
        "[w for w in tokens if re.search('^[bdf][aue][rts]$', w)][:10]"
      ]
    },
    {
      "cell_type": "markdown",
      "metadata": {
        "id": "ug7-POss4DpM"
      },
      "source": [
        "---\n",
        "**5. What kind of input that matches, and what do not? Also, give a brief explanation.**\n",
        "\n",
        "Ans: **^[bdf][aue][rts]$ หมายถึง ค้นหาคำที่มีความยาว 3 ตัวอักษร โดยตัวแรกต้องเป็น b, d หรือ f ตัวที่สองต้องเป็น a, u หรือ e และตัวที่สามต้องเป็น r, t หรือ s** <br>\n",
        "ดังนั้นคำที่ตรงกับรูปแบบนี้คือคำที่มี 3 ตัวอักษร และตรงตามเงื่อนไขแต่ละตัว เช่น but, bet, fur, dus <br>\n",
        "ในทางกลับกันคำที่ไม่ตรงคือคำที่ไม่ใช่ 3 ตัวอักษร หรือไม่ตรงตามเงื่อนไขตัวอักษรแต่ละตำแหน่ง เช่น <br>\n",
        "- cat (ตัวแรกไม่ใช่ b, d, f) <br>\n",
        "- fun (ตัวสามไม่ใช่ r, t, s) <br>\n",
        "- dusted (ความยาวเกิน 3 ตัว)\n",
        "---"
      ]
    },
    {
      "cell_type": "code",
      "execution_count": 281,
      "metadata": {
        "colab": {
          "base_uri": "https://localhost:8080/"
        },
        "id": "pdEYsV4FtqKB",
        "outputId": "93e8bc2b-f376-4a7c-cf81-126c01876248"
      },
      "outputs": [
        {
          "data": {
            "text/plain": [
              "{'nooo',\n",
              " 'noooo',\n",
              " 'nooooo',\n",
              " 'noooooo',\n",
              " 'nooooooo',\n",
              " 'nooooooooo',\n",
              " 'noooooooooooo',\n",
              " 'nooooooooooooooooo'}"
            ]
          },
          "execution_count": 281,
          "metadata": {},
          "output_type": "execute_result"
        }
      ],
      "source": [
        "set([w for w in tokens if re.search('noo+$', w)])"
      ]
    },
    {
      "cell_type": "markdown",
      "metadata": {
        "id": "cFBSfhgI4E2G"
      },
      "source": [
        "---\n",
        "**6. What kind of input that matches, and what do not? Also, give a brief explanation.**\n",
        "\n",
        "Ans: **noo+$ หมายถึง ค้นหาคำที่ลงท้ายด้วยตัวอักษร \"no\" ตามด้วย \"o\" ซ้ำอย่างน้อยหนึ่งตัว** <br>\n",
        "ดังนั้นคำที่ตรงกับรูปแบบนี้คือคำที่ลงท้ายด้วย \"no\" + \"o\" ซ้ำ เช่น nooo, nooooo, technoo <br>\n",
        "ในทางกลับกันคำที่ไม่ตรงคือคำที่ไม่ลงท้ายด้วย \"no\" + \"o\" ซ้ำ เช่น <br>\n",
        "- no (ไม่ลงท้ายด้วย \"no\" + \"o\"อย่างน้อยหนึ่งตัว) <br>\n",
        "- noon (ไม่ลงท้ายด้วย \"no\" + \"o\"อย่างน้อยหนึ่งตัว) <br>\n",
        "- banana (ไม่ลงท้ายด้วย \"no\" + \"o\"อย่างน้อยหนึ่งตัว)\n",
        "---"
      ]
    },
    {
      "cell_type": "code",
      "execution_count": 282,
      "metadata": {
        "colab": {
          "base_uri": "https://localhost:8080/"
        },
        "id": "F-pZ5jRRtqKB",
        "outputId": "c9c0c103-9801-4818-b07d-477af627f71b"
      },
      "outputs": [
        {
          "data": {
            "text/plain": [
              "{'albino',\n",
              " 'dunno',\n",
              " 'gemino',\n",
              " 'inferno',\n",
              " 'n-no',\n",
              " 'no',\n",
              " 'nooo',\n",
              " 'noooo',\n",
              " 'nooooo',\n",
              " 'noooooo',\n",
              " 'nooooooo',\n",
              " 'nooooooooo',\n",
              " 'noooooooooooo',\n",
              " 'nooooooooooooooooo',\n",
              " 'oppugno',\n",
              " 'palomino',\n",
              " 'patrono',\n",
              " 'piano',\n",
              " 'pi\\xadano',\n",
              " 'rhino',\n",
              " 'xeno'}"
            ]
          },
          "execution_count": 282,
          "metadata": {},
          "output_type": "execute_result"
        }
      ],
      "source": [
        "set([w for w in tokens if re.search('noo*$', w)])"
      ]
    },
    {
      "cell_type": "markdown",
      "metadata": {
        "id": "u04l5n-K4JPn"
      },
      "source": [
        "---\n",
        "**7. What kind of input that matches, and what do not? Also, give a brief explanation.**\n",
        "\n",
        "Ans: **noo*$ หมายถึง ค้นหาคำที่ลงท้ายด้วยตัวอักษร \"no\" แล้วตามด้วย \"o\" ตั้งแต่ 0 ตัวขึ้นไป** <br>\n",
        "ดังนั้นคำที่ตรงกับรูปแบบนี้คือคำที่ลงท้ายด้วย \"no\" แล้วตามด้วย \"o\" ตั้งแต่ 0 ตัวขึ้นไป เช่น no, noo, nooo, techno <br>\n",
        "ในทางกลับกันคำที่ไม่ตรงคือคำที่ไม่ลงท้ายด้วย \"no\" แล้วตามด้วย \"o\" ตั้งแต่ 0 ตัวขึ้นไป เช่น <br>\n",
        "- na (ไม่ลงท้ายด้วย \"no\" แล้วตามด้วย \"o\" ตั้งแต่ 0 ตัวขึ้นไป ) <br>\n",
        "- banana (ไม่ลงท้ายด้วย \"no\" แล้วตามด้วย \"o\" ตั้งแต่ 0 ตัวขึ้นไป ) <br>\n",
        "- note (ไม่ลงท้ายด้วย \"no\" แล้วตามด้วย \"o\" ตั้งแต่ 0 ตัวขึ้นไป )\n",
        "---\n"
      ]
    },
    {
      "cell_type": "code",
      "execution_count": 283,
      "metadata": {
        "colab": {
          "base_uri": "https://localhost:8080/"
        },
        "id": "2wYcwl4rtqKB",
        "outputId": "2c17a66b-d63f-44b8-cadb-593a027545c3"
      },
      "outputs": [
        {
          "name": "stderr",
          "output_type": "stream",
          "text": [
            "<>:1: SyntaxWarning: invalid escape sequence '\\.'\n",
            "<>:1: SyntaxWarning: invalid escape sequence '\\.'\n",
            "/tmp/ipython-input-707925584.py:1: SyntaxWarning: invalid escape sequence '\\.'\n",
            "  [w for w in tokens if re.search('\\.+$', w)][:10]\n"
          ]
        },
        {
          "data": {
            "text/plain": [
              "['j.', 'k.', 'a.', 'p.', 'f.', '.', 'j.', 'k.', '.', 'bros.']"
            ]
          },
          "execution_count": 283,
          "metadata": {},
          "output_type": "execute_result"
        }
      ],
      "source": [
        "[w for w in tokens if re.search('\\.+$', w)][:10]"
      ]
    },
    {
      "cell_type": "markdown",
      "metadata": {
        "id": "irm7CgvX4KHZ"
      },
      "source": [
        "---\n",
        "**8. What kind of input that matches, and what do not? Also, give a brief explanation.**\n",
        "\n",
        "Ans: **\\.+$ หมายถึง ค้นหาคำหรือสตริงที่ลงท้ายด้วยจุด (.) อย่างน้อย 1 ตัว** <br>\n",
        "ดังนั้นคำที่ตรงกับรูปแบบนี้คือคำหรือสตริงที่ลงท้ายด้วย \".\" เช่น ., end., hello..., version. <br>\n",
        "ในทางกลับกันคำที่ไม่ตรงคือคำหรือสตริงที่ไม่ลงท้ายด้วย \".\" เช่น <br>\n",
        "- .hello (ไม่มีจุดลงท้าย) <br>\n",
        "- world (ไม่มีจุดลงท้าย) <br>\n",
        "- test (ไม่มีจุดลงท้าย)\n",
        "---"
      ]
    },
    {
      "cell_type": "code",
      "execution_count": 284,
      "metadata": {
        "colab": {
          "base_uri": "https://localhost:8080/"
        },
        "id": "7-6LdLWstqKB",
        "outputId": "7aa97a60-4b6d-4ac7-a8d8-5589f3079b4f"
      },
      "outputs": [
        {
          "name": "stderr",
          "output_type": "stream",
          "text": [
            "<>:1: SyntaxWarning: invalid escape sequence '\\.'\n",
            "<>:1: SyntaxWarning: invalid escape sequence '\\.'\n",
            "/tmp/ipython-input-1844296225.py:1: SyntaxWarning: invalid escape sequence '\\.'\n",
            "  [w for w in tokens if re.search('^[A-Z]+\\.$', w)]\n"
          ]
        },
        {
          "data": {
            "text/plain": [
              "[]"
            ]
          },
          "execution_count": 284,
          "metadata": {},
          "output_type": "execute_result"
        }
      ],
      "source": [
        "[w for w in tokens if re.search('^[A-Z]+\\.$', w)]"
      ]
    },
    {
      "cell_type": "markdown",
      "metadata": {
        "id": "7VUNwZ0R4K9H"
      },
      "source": [
        "---\n",
        "**9. What kind of input that matches, and what do not? Also, give a brief explanation.**\n",
        "\n",
        "Ans: **^[A-Z]+\\.$ หมายถึง ค้นหาคำที่ประกอบด้วยตัวอักษรพิมพ์ใหญ่ (A–Z) อย่างน้อยหนึ่งตัว และลงท้ายด้วยจุด (.)** <br>\n",
        "ดังนั้นคำที่ตรงกับรูปแบบนี้คือคำที่เป็นตัวพิมพ์ใหญ่ทั้งหมดและลงท้ายด้วย \".\" เช่น HELLO., WORLD., TEST. <br>\n",
        "ในทางกลับกันคำที่ไม่ตรงคือคำหรือสตริงที่ไม่ใช่ตัวพิมพ์ใหญ่ทั้งหมด หรือไม่ลงท้ายด้วย \".\" เช่น <br>\n",
        "- Hello. (มีตัวพิมพ์เล็ก) <br>\n",
        "- WORLD (ไม่มีจุดลงท้าย) <br>\n",
        "- test. (เป็นตัวพิมพ์เล็ก)\n",
        "---\n"
      ]
    },
    {
      "cell_type": "code",
      "execution_count": 285,
      "metadata": {
        "colab": {
          "base_uri": "https://localhost:8080/"
        },
        "collapsed": true,
        "id": "h8grUWgWtqKB",
        "outputId": "fcea5679-f419-4271-abb5-29d7bf37f23c"
      },
      "outputs": [
        {
          "data": {
            "text/plain": [
              "['1999',\n",
              " '1999',\n",
              " '1920',\n",
              " '1999',\n",
              " '1999',\n",
              " '1875',\n",
              " '1492',\n",
              " '1289',\n",
              " '2007',\n",
              " '2007']"
            ]
          },
          "execution_count": 285,
          "metadata": {},
          "output_type": "execute_result"
        }
      ],
      "source": [
        "[w for w in tokens if re.search('^[0-9]{4}$', w)][:10]"
      ]
    },
    {
      "cell_type": "markdown",
      "metadata": {
        "id": "vCbnvhvg4NeT"
      },
      "source": [
        "---\n",
        "**10. What kind of input that matches, and what do not? Also, give a brief explanation.**\n",
        "\n",
        "Ans: **^[0-9]{4}$ หมายถึง ค้นหาคำที่ประกอบด้วยตัวเลข 0–9 จำนวน 4 ตัว** <br>\n",
        "ดังนั้นคำที่ตรงกับรูปแบบนี้คือตัวเลข 4 ตัว เช่น 2025, 1234, 0001 <br>\n",
        "ในทางกลับกันคำที่ไม่ตรงคือสตริงที่ไม่ใช่ตัวเลข 4 ตัว เช่น <br>\n",
        "- 123 (มีแค่ 3 ตัว) <br>\n",
        "- 12345 (มี 5 ตัว) <br>\n",
        "- ab12 (มีตัวอักษร)\n",
        "---\n"
      ]
    },
    {
      "cell_type": "code",
      "execution_count": 286,
      "metadata": {
        "colab": {
          "base_uri": "https://localhost:8080/"
        },
        "id": "AanZKHmctqKB",
        "outputId": "cead8b48-9f2a-4823-bc07-2413a2acb3d5"
      },
      "outputs": [
        {
          "data": {
            "text/plain": [
              "{'published',\n",
              " 'publishing',\n",
              " 'registered',\n",
              " 'related',\n",
              " 'reproduced',\n",
              " 'reserved',\n",
              " 'rowling',\n",
              " 'stored'}"
            ]
          },
          "execution_count": 286,
          "metadata": {},
          "output_type": "execute_result"
        }
      ],
      "source": [
        "set([w for w in tokens if re.search('(ed|ing)$', w)][:10])"
      ]
    },
    {
      "cell_type": "markdown",
      "metadata": {
        "id": "bXgCHKQ_4PHd"
      },
      "source": [
        "---\n",
        "**11. What kind of input that matches, and what do not? Also, give a brief explanation.**\n",
        "\n",
        "Ans: **(ed|ing)$ หมายถึง ค้นหาคำที่ลงท้ายด้วย \"ed\" หรือ \"ing\"** <br>\n",
        "ดังนั้นคำที่ตรงกับรูปแบบนี้คือคำที่ลงท้ายด้วย \"ed\" หรือ \"ing\" เช่น walked, jumping, played, running <br>\n",
        "ในทางกลับกันคำที่ไม่ตรงคือคำที่ไม่ลงท้ายด้วย \"ed\" หรือ \"ing\" เช่น <br>\n",
        "- walk (ไม่มี \"ed\" หรือ \"ing\") <br>\n",
        "- run (ไม่มี \"ed\" หรือ \"ing\") <br>\n",
        "- play (ไม่มี \"ed\" หรือ \"ing\")\n",
        "---\n"
      ]
    },
    {
      "cell_type": "markdown",
      "metadata": {
        "id": "yXfRNGq3tqKB"
      },
      "source": [
        "## 3. Regular expression tokenizer"
      ]
    },
    {
      "cell_type": "markdown",
      "metadata": {
        "id": "d1v_GcUZtqKB"
      },
      "source": [
        "###3.1 Basic regex tokenizer"
      ]
    },
    {
      "cell_type": "code",
      "execution_count": 287,
      "metadata": {
        "id": "YBRHMdbetqKB"
      },
      "outputs": [],
      "source": [
        "s = (\"Good muffins cost $3.88\\nin New York.  Please buy me\\n\"\n",
        "      \"two of them.\\n\\nThanks.\")\n",
        "s2 = (\"Alas, it has not rained today. When, do you think, \"\n",
        "      \"will it rain again?\")\n",
        "s3 = (\"<p>Although this is <b>not</b> the case here, we must \"\n",
        "      \"not relax our vigilance!</p>\")"
      ]
    },
    {
      "cell_type": "code",
      "execution_count": 288,
      "metadata": {
        "colab": {
          "base_uri": "https://localhost:8080/",
          "height": 35
        },
        "id": "KJbaT_KxtqKB",
        "outputId": "695cc406-bf9b-409f-f660-f862484f3971"
      },
      "outputs": [
        {
          "data": {
            "application/vnd.google.colaboratory.intrinsic+json": {
              "type": "string"
            },
            "text/plain": [
              "'Alas, it has not rained today. When, do you think, will it rain again?'"
            ]
          },
          "execution_count": 288,
          "metadata": {},
          "output_type": "execute_result"
        }
      ],
      "source": [
        "s2"
      ]
    },
    {
      "cell_type": "code",
      "execution_count": 289,
      "metadata": {
        "colab": {
          "base_uri": "https://localhost:8080/"
        },
        "id": "CHY4sfVGtqKB",
        "outputId": "a00c1af9-eb14-402e-c4e8-9f5aab5f540f"
      },
      "outputs": [
        {
          "data": {
            "text/plain": [
              "['Alas',\n",
              " 'it has not rained today',\n",
              " 'When',\n",
              " 'do you think',\n",
              " 'will it rain again']"
            ]
          },
          "execution_count": 289,
          "metadata": {},
          "output_type": "execute_result"
        }
      ],
      "source": [
        "nltk.regexp_tokenize(s2, r'[,\\.\\?!\"]\\s*', gaps=True)"
      ]
    },
    {
      "cell_type": "markdown",
      "metadata": {
        "id": "3JyJDu507p-V"
      },
      "source": [
        "---\n",
        "**12.What happened after applying the above RegEx tokenizer to the input string?**\n",
        "\n",
        "Ans: **แยกคำโดยใช้เครื่องหมาย , . ? ! \" เป็นตัวแบ่งคำ**\n",
        "\n",
        "---"
      ]
    },
    {
      "cell_type": "code",
      "execution_count": 290,
      "metadata": {
        "colab": {
          "base_uri": "https://localhost:8080/",
          "height": 35
        },
        "id": "pl5yqQBGtqKB",
        "outputId": "734c73ee-d594-45fa-e8bb-ac144c646d47"
      },
      "outputs": [
        {
          "data": {
            "application/vnd.google.colaboratory.intrinsic+json": {
              "type": "string"
            },
            "text/plain": [
              "'<p>Although this is <b>not</b> the case here, we must not relax our vigilance!</p>'"
            ]
          },
          "execution_count": 290,
          "metadata": {},
          "output_type": "execute_result"
        }
      ],
      "source": [
        "s3"
      ]
    },
    {
      "cell_type": "code",
      "execution_count": 291,
      "metadata": {
        "colab": {
          "base_uri": "https://localhost:8080/"
        },
        "id": "uaqFVGG4tqKB",
        "outputId": "23355e53-9f97-4371-96da-5f3790d320c7"
      },
      "outputs": [
        {
          "data": {
            "text/plain": [
              "['<p>', '<b>', '</b>', '</p>']"
            ]
          },
          "execution_count": 291,
          "metadata": {},
          "output_type": "execute_result"
        }
      ],
      "source": [
        "nltk.regexp_tokenize(s3, r'</?.>', gaps=False)"
      ]
    },
    {
      "cell_type": "markdown",
      "metadata": {
        "id": "AHZJ-7YE76Ri"
      },
      "source": [
        "---\n",
        "**13.What happened after applying the above RegEx tokenizer to the input string?**\n",
        "\n",
        "Ans: **ค้นหาคำที่มีเครื่องหมาย < >ประกบ เช่น <b>, </b>**\n",
        "\n",
        "---"
      ]
    },
    {
      "cell_type": "code",
      "execution_count": 292,
      "metadata": {
        "colab": {
          "base_uri": "https://localhost:8080/"
        },
        "id": "bpgMNb-OtqKC",
        "outputId": "cc97f7df-d9dd-4365-c010-0180b45b0cd6"
      },
      "outputs": [
        {
          "data": {
            "text/plain": [
              "['Although this is ',\n",
              " 'not',\n",
              " ' the case here, we must not relax our vigilance!']"
            ]
          },
          "execution_count": 292,
          "metadata": {},
          "output_type": "execute_result"
        }
      ],
      "source": [
        "nltk.regexp_tokenize(s3, r'</?.>', gaps=True)"
      ]
    },
    {
      "cell_type": "markdown",
      "metadata": {
        "id": "fPqzBG127619"
      },
      "source": [
        "---\n",
        "**14.What happened after applying the above RegEx tokenizer to the input string?**\n",
        "\n",
        "Ans: **แยกคำโดยใช้เครื่องหมาย < > เป็นตัวแบ่งคำ****\n",
        "\n",
        "---"
      ]
    },
    {
      "cell_type": "code",
      "execution_count": 293,
      "metadata": {
        "colab": {
          "base_uri": "https://localhost:8080/"
        },
        "collapsed": true,
        "id": "za62sLT0A-TA",
        "outputId": "538f720e-9f4b-45b5-aa5a-1ecaf5619938"
      },
      "outputs": [
        {
          "data": {
            "text/plain": [
              "['harry', 'potter', 'and', 'the', 'chamber', 'of', 'secrets', 'by', 'j.', 'k.']"
            ]
          },
          "execution_count": 293,
          "metadata": {},
          "output_type": "execute_result"
        }
      ],
      "source": [
        "tokens[:10]"
      ]
    },
    {
      "cell_type": "markdown",
      "metadata": {
        "id": "mkvEx6gRB4Xa"
      },
      "source": [
        "---\n",
        "# Harry Potter series"
      ]
    },
    {
      "cell_type": "markdown",
      "metadata": {
        "id": "JhUL9roCB811"
      },
      "source": [
        "## Cleaning text"
      ]
    },
    {
      "cell_type": "code",
      "execution_count": 294,
      "metadata": {
        "id": "IlyUaKukBbnX"
      },
      "outputs": [],
      "source": [
        "# 1. Lowercase all tokens\n",
        "tokens = [w.lower() for w in tokens]"
      ]
    },
    {
      "cell_type": "code",
      "execution_count": 295,
      "metadata": {
        "colab": {
          "base_uri": "https://localhost:8080/"
        },
        "id": "8jsU7NvOHMwL",
        "outputId": "a90843df-3abc-4484-997a-f2847d6bc033"
      },
      "outputs": [
        {
          "name": "stdout",
          "output_type": "stream",
          "text": [
            ". : 65759\n",
            "é : 30\n",
            "á : 1\n",
            "- : 5660\n",
            "© : 23\n",
            ", : 86310\n",
            "/ : 10\n",
            ": : 1474\n",
            "[ : 6\n",
            "— : 9711\n",
            "] : 6\n",
            "’ : 34979\n",
            "“ : 37060\n",
            "! : 7637\n",
            "” : 36750\n",
            "? : 10865\n",
            "­ : 9622\n",
            "… : 7957\n",
            "; : 3482\n",
            "‘ : 511\n",
            "( : 329\n",
            ") : 331\n",
            "* : 57\n",
            "' : 3\n",
            "& : 2\n",
            "ˮ : 1\n",
            "ß : 1\n",
            "¬ : 1\n",
            "– : 9\n",
            "ù : 1\n"
          ]
        }
      ],
      "source": [
        "# 2. Show punctuation and non-alphanumeric characters\n",
        "from collections import Counter\n",
        "punctuation_chars = []\n",
        "\n",
        "# find\n",
        "for w in tokens:\n",
        "    punctuation_chars.extend(re.findall(r'[^a-zA-Z0-9]', w))\n",
        "\n",
        "# counter\n",
        "punctuation_count = Counter(punctuation_chars)\n",
        "\n",
        "# result\n",
        "for char, count in punctuation_count.items():\n",
        "    print(f\"{char} : {count}\")\n"
      ]
    },
    {
      "cell_type": "code",
      "execution_count": 296,
      "metadata": {
        "id": "V67-NoStHPDp"
      },
      "outputs": [],
      "source": [
        "# 3. Remove punctuation and non-alphanumeric characters from each token\n",
        "tokens = [re.sub(r'[^a-zA-Z0-9]', '', w) for w in tokens]"
      ]
    },
    {
      "cell_type": "code",
      "execution_count": 297,
      "metadata": {
        "colab": {
          "base_uri": "https://localhost:8080/"
        },
        "id": "l9XnpBK-HRGV",
        "outputId": "2d1fce14-a811-4a88-a0a0-000ebece8426"
      },
      "outputs": [
        {
          "name": "stdout",
          "output_type": "stream",
          "text": [
            "Empty or space-only tokens count: 294308\n"
          ]
        }
      ],
      "source": [
        "# 4. Show space or empty tokens\n",
        "empty_count = sum(w.strip() == '' for w in tokens)\n",
        "print(f\"Empty or space-only tokens count: {empty_count}\")"
      ]
    },
    {
      "cell_type": "code",
      "execution_count": 298,
      "metadata": {
        "id": "8ptMFR9kHTJC"
      },
      "outputs": [],
      "source": [
        "# 5. Remove space or empty tokens\n",
        "tokens = [w for w in tokens if w.strip() != '']"
      ]
    },
    {
      "cell_type": "code",
      "execution_count": 299,
      "metadata": {
        "colab": {
          "base_uri": "https://localhost:8080/"
        },
        "id": "R7OqEHMpvTbO",
        "outputId": "2f1115c2-3116-468e-ce60-9bb723448f8c"
      },
      "outputs": [
        {
          "name": "stdout",
          "output_type": "stream",
          "text": [
            "'a' : 21038\n",
            "'b' : 13\n",
            "'c' : 61\n",
            "'d' : 1984\n",
            "'e' : 52\n",
            "'f' : 5\n",
            "'g' : 5\n",
            "'h' : 9\n",
            "'i' : 13557\n",
            "'j' : 22\n",
            "'k' : 19\n",
            "'l' : 4\n",
            "'m' : 1358\n",
            "'n' : 25\n",
            "'o' : 258\n",
            "'p' : 15\n",
            "'r' : 7\n",
            "'s' : 14750\n",
            "'t' : 7703\n",
            "'u' : 1\n",
            "'v' : 1\n",
            "'w' : 6\n",
            "'x' : 2\n",
            "'y' : 20\n",
            "'z' : 1\n"
          ]
        }
      ],
      "source": [
        "# 6. Show single characters b-z\n",
        "single_chars = []\n",
        "\n",
        "# find\n",
        "for w in tokens:\n",
        "    single_chars.extend(re.findall(r'^[a-z]{1}$', w))\n",
        "\n",
        "# counter\n",
        "single_count = Counter(single_chars)\n",
        "\n",
        "# result\n",
        "for char, count in sorted(single_count.items()):\n",
        "    print(f\"'{char}' : {count}\")"
      ]
    },
    {
      "cell_type": "code",
      "execution_count": 300,
      "metadata": {
        "id": "rmiY-CPSva-H"
      },
      "outputs": [],
      "source": [
        "# 7. Remove single characters b-z\n",
        "tokens = [re.sub(r'\\b[b-z]\\b', '', w) for w in tokens]"
      ]
    },
    {
      "cell_type": "code",
      "execution_count": 301,
      "metadata": {
        "colab": {
          "base_uri": "https://localhost:8080/"
        },
        "id": "2aB8Xj7WHUxb",
        "outputId": "e8912b90-df43-4f2b-885b-28a7ccb8c0d8"
      },
      "outputs": [
        {
          "name": "stdout",
          "output_type": "stream",
          "text": [
            "Clean tokens: ['harry', 'potter', 'and', 'the', 'chamber', 'of', 'secrets', 'by', '', '']\n"
          ]
        }
      ],
      "source": [
        "print(\"Clean tokens:\", tokens[:10])"
      ]
    },
    {
      "cell_type": "markdown",
      "metadata": {
        "id": "Xj-DR4c5JaAc"
      },
      "source": [
        "## EDA"
      ]
    },
    {
      "cell_type": "markdown",
      "metadata": {
        "id": "wZnRfZglqgUt"
      },
      "source": [
        "จำนวนบทของหนังสือ"
      ]
    },
    {
      "cell_type": "code",
      "execution_count": 302,
      "metadata": {
        "colab": {
          "base_uri": "https://localhost:8080/"
        },
        "id": "yd01ObgRILPm",
        "outputId": "f2224c64-ce44-4f2e-f445-7e1395b19964"
      },
      "outputs": [
        {
          "name": "stdout",
          "output_type": "stream",
          "text": [
            "The phrase 'chapter xx' appears 199 times in the text.\n"
          ]
        }
      ],
      "source": [
        "cleaned_text = ' '.join(tokens)  # รวม tokens เป็น string\n",
        "\n",
        "# ใช้ regex chapter [\\d][\\d]* → chapter ตามด้วยตัวเลข 1 หลักขึ้นไป\n",
        "chapter_matches = re.findall(r'chapter [\\d][\\d]*', cleaned_text)\n",
        "\n",
        "# นับจำนวน occurrence\n",
        "chapter_count = len(chapter_matches)\n",
        "\n",
        "print(f\"The phrase 'chapter xx' appears {chapter_count} times in the text.\")"
      ]
    },
    {
      "cell_type": "markdown",
      "metadata": {
        "id": "cdKTOod4qWmP"
      },
      "source": [
        "จำนวนเล่มของหนังสือ"
      ]
    },
    {
      "cell_type": "code",
      "execution_count": 303,
      "metadata": {
        "colab": {
          "base_uri": "https://localhost:8080/"
        },
        "id": "xZaHN3l6I7mx",
        "outputId": "bc0e9a21-5135-4d5e-a801-57d70381811b"
      },
      "outputs": [
        {
          "name": "stdout",
          "output_type": "stream",
          "text": [
            "The phrase 'chapter 1' appears 7 times in the text.\n"
          ]
        }
      ],
      "source": [
        "# ใช้ regex หา \"chapter 1\"\n",
        "chapter_1_matches = re.findall(r'\\bchapter 1\\b', cleaned_text)\n",
        "\n",
        "# นับจำนวน occurrence\n",
        "chapter_1_count = len(chapter_1_matches)\n",
        "\n",
        "print(f\"The phrase 'chapter 1' appears {chapter_1_count} times in the text.\")"
      ]
    },
    {
      "cell_type": "markdown",
      "metadata": {
        "id": "huXOi7l4qiws"
      },
      "source": [
        "พิจารณา book_2 เนื่องจากจำนวนบทไม่ตรง เพราะ chapter 18 อ้างอิง chapter 22 ในเนื้อหา"
      ]
    },
    {
      "cell_type": "markdown",
      "metadata": {
        "id": "7H5SKQ5crXXi"
      },
      "source": [
        "*หมายเหตุ ! <br>ตอนแรกคิดว่าจะรวม chapter 18 กับ chapter 19 แล้วลบ chapter 19 ออกเหมือนใน comment*"
      ]
    },
    {
      "cell_type": "code",
      "execution_count": 304,
      "metadata": {
        "colab": {
          "base_uri": "https://localhost:8080/"
        },
        "id": "Y1H1y8uuh2L3",
        "outputId": "f467c9f0-b605-47b9-fafe-7522796cddef"
      },
      "outputs": [
        {
          "name": "stdout",
          "output_type": "stream",
          "text": [
            "chapter 1: chapter 1 the dark lord ascending the two men appeared out of nowhere a few yards apart in the narro...\n",
            "chapter 2: chapter 2 in memoriam harry was bleeding clutching his right hand in his left and swearing under his...\n",
            "chapter 3: chapter 3 the dursleys departing the sound of the front door slamming echoed up the stairs and a voi...\n",
            "chapter 4: chapter 4 the seven potters harry ran back upstairs to his bedroom arriving at the window just in ti...\n",
            "chapter 5: chapter 5 fallen warrior hagrid harry struggled to raise himself out of the debris of metal and leat...\n",
            "chapter 6: chapter 6 the ghoul in pajamas the shock of losing madeye hung over the house in the days that follo...\n",
            "chapter 7: chapter 7 the will of albus dumbledore he was walking along a mountain road in the cool blue light o...\n",
            "chapter 8: chapter 8 the wedding three  clock on the following afternoon found harry ron fred and george standi...\n",
            "chapter 9: chapter 9 a place to hide everything seemed fuzzy slow harry and hermione jumped to their feet and d...\n",
            "chapter 10: chapter 10 kreacher  tale harry woke early next morning wrapped in a sleeping bag on the drawing roo...\n",
            "chapter 11: chapter 11 the bribe if kreacher could escape a lake full of inferi harry was confident that the cap...\n",
            "chapter 12: chapter 12 magic is might as august wore on the square of unkempt grass in the middle of grimmauld p...\n",
            "chapter 13: chapter 13 the muggleborn registration commission ah mafalda said umbridge looking at hermione trave...\n",
            "chapter 14: chapter 14 the thief harry opened his eyes and was dazzled by gold and green he had no idea what had...\n",
            "chapter 15: chapter 15 the goblin  revenge early next morning before the other two were awake harry left the ten...\n",
            "chapter 16: chapter 16 godric  hollow when harry woke the following day it was several seconds before he remembe...\n",
            "chapter 17: chapter 17 bathilda  secret harry stop what  wrong they had only just reached the grave of the unkno...\n",
            "chapter 18: chapter 18 the life and lies of albus dumbledore the sun was coming up the pure colorless vastness o...\n",
            "chapter 19: chapter 22 what caused this abrupt rupture had dumbledore come to his senses had he told grindelwald...\n",
            "chapter 20: chapter 19 the silver doe it was snowing by the time hermione took over the watch at midnight harry ...\n",
            "chapter 21: chapter 20 xenophilius lovegood harry had not expected hermione  anger to abate overnight and was th...\n",
            "chapter 22: chapter 21 the tale of the three brothers harry turned to look at ron and hermione neither of them s...\n",
            "chapter 23: chapter 22 the deathly hallows harry fell panting onto grass and scrambled up at once they seemed to...\n",
            "chapter 24: chapter 23 malfoy manor harry looked around at the other two now mere outlines in the darkness he sa...\n",
            "chapter 25: chapter 24 the wandmaker it was like sinking into an old nightmare for an instant harry knelt again ...\n",
            "chapter 26: chapter 25 shell cottage bill and fleur  cottage stood alone on a cliff overlooking the sea its wall...\n",
            "chapter 27: chapter 26 gringotts their plans were made their preparations complete in the smallest bedroom a sin...\n",
            "chapter 28: chapter 27 the final hiding place there was no means of steering the dragon could not see where it w...\n",
            "chapter 29: chapter 28 the missing mirror harry  feet touched road he saw the achingly familiar hogsmeade high s...\n",
            "chapter 30: chapter 29 the lost diadem neville what the how but neville had spotted ron and hermione and with ye...\n",
            "chapter 31: chapter 30 the sacking of severus snape the moment her finger touched the mark harry  scar burned sa...\n",
            "chapter 32: chapter 31 the battle of hogwarts the enchanted ceiling of the great hall was dark and scattered wit...\n",
            "chapter 33: chapter 32 the elder wand the world had ended so why had the battle not ceased the castle fallen sil...\n",
            "chapter 34: chapter 33 the prince  tale harry remained kneeling at snape  side simply staring down at him until ...\n",
            "chapter 35: chapter 34 the forest again finally the truth lying with his face pressed into the dusty carpet of t...\n",
            "chapter 36: chapter 35 king  cross he lay facedown listening to the silence he was perfectly alone nobody was wa...\n",
            "chapter 37: chapter 36 the flaw in the plan he was lying facedown on the ground again the smell of the forest fi...\n"
          ]
        }
      ],
      "source": [
        "book_index = 2  # enumerate start from 0\n",
        "book_2 = books[book_index]\n",
        "\n",
        "# split chapters\n",
        "chapters_in_book2 = re.split(r'(?i)(?=chapter \\d+\\b)', book_2)\n",
        "chapters_in_book2 = [ch.strip() for ch in chapters_in_book2 if ch.strip()]\n",
        "\n",
        "# merge chapter 18 and 19, then drop chapter 19\n",
        "# if len(chapters_in_book2) >= 19:\n",
        "#     chapters_in_book2[17] = chapters_in_book2[17] + \"\\n\\n\" + chapters_in_book2[18]\n",
        "#     del chapters_in_book2[18]  # remove chapter 19\n",
        "\n",
        "# results\n",
        "for j, chapter in enumerate(chapters_in_book2, 1):\n",
        "    print(f\"chapter {j}: {chapter[:100]}...\")  # preview first 100 char"
      ]
    },
    {
      "cell_type": "markdown",
      "metadata": {
        "id": "ilHkj4qer5dZ"
      },
      "source": [
        "*แต่คิดวิธีที่ดีกว่าได้คือการแบ่ง chapter แบบไล่ลำดับ :)*"
      ]
    },
    {
      "cell_type": "markdown",
      "metadata": {
        "id": "smRMP636H_vj"
      },
      "source": [
        "## Comparable length each book and all book\n"
      ]
    },
    {
      "cell_type": "code",
      "execution_count": 305,
      "metadata": {
        "colab": {
          "base_uri": "https://localhost:8080/"
        },
        "id": "7vwMBC7LeQ2t",
        "outputId": "20e8b525-67bc-4627-eb36-737b06bab113"
      },
      "outputs": [
        {
          "name": "stdout",
          "output_type": "stream",
          "text": [
            "book_1 has 18 chapters\n",
            "  chapter 1 has 2560 words\n",
            "  chapter 2 has 2843 words\n",
            "  chapter 3 has 4487 words\n",
            "  chapter 4 has 5733 words\n",
            "  chapter 5 has 5395 words\n",
            "  chapter 6 has 4521 words\n",
            "  chapter 7 has 4529 words\n",
            "  chapter 8 has 4360 words\n",
            "  chapter 9 has 5085 words\n",
            "  chapter 10 has 5282 words\n",
            "  chapter 11 has 5937 words\n",
            "  chapter 12 has 5392 words\n",
            "  chapter 13 has 5441 words\n",
            "  chapter 14 has 3911 words\n",
            "  chapter 15 has 4634 words\n",
            "  chapter 16 has 5626 words\n",
            "  chapter 17 has 5341 words\n",
            "  chapter 18 has 4131 words\n",
            "  -> Shortest chapter in this book: chapter 1 (2560 words)\n",
            "  -> Longest chapter in this book: chapter 11 (5937 words)\n",
            "\n",
            "book_2 has 36 chapters\n",
            "  chapter 1 has 3083 words\n",
            "  chapter 2 has 4038 words\n",
            "  chapter 3 has 3291 words\n",
            "  chapter 4 has 5349 words\n",
            "  chapter 5 has 5813 words\n",
            "  chapter 6 has 6535 words\n",
            "  chapter 7 has 6498 words\n",
            "  chapter 8 has 6134 words\n",
            "  chapter 9 has 4104 words\n",
            "  chapter 10 has 6594 words\n",
            "  chapter 11 has 5517 words\n",
            "  chapter 12 has 6053 words\n",
            "  chapter 13 has 5810 words\n",
            "  chapter 14 has 4182 words\n",
            "  chapter 15 has 6935 words\n",
            "  chapter 16 has 5184 words\n",
            "  chapter 17 has 5391 words\n",
            "  chapter 18 has 3445 words\n",
            "  chapter 19 has 6618 words\n",
            "  chapter 20 has 4423 words\n",
            "  chapter 21 has 4802 words\n",
            "  chapter 22 has 5797 words\n",
            "  chapter 23 has 7786 words\n",
            "  chapter 24 has 6651 words\n",
            "  chapter 25 has 4312 words\n",
            "  chapter 26 has 6809 words\n",
            "  chapter 27 has 2628 words\n",
            "  chapter 28 has 4473 words\n",
            "  chapter 29 has 4515 words\n",
            "  chapter 30 has 4844 words\n",
            "  chapter 31 has 7937 words\n",
            "  chapter 32 has 5485 words\n",
            "  chapter 33 has 8113 words\n",
            "  chapter 34 has 3864 words\n",
            "  chapter 35 has 4862 words\n",
            "  chapter 36 has 8982 words\n",
            "  -> Shortest chapter in this book: chapter 27 (2628 words)\n",
            "  -> Longest chapter in this book: chapter 36 (8982 words)\n",
            "\n",
            "book_3 has 37 chapters\n",
            "  chapter 1 has 4121 words\n",
            "  chapter 2 has 2840 words\n",
            "  chapter 3 has 3179 words\n",
            "  chapter 4 has 2990 words\n",
            "  chapter 5 has 3774 words\n",
            "  chapter 6 has 2386 words\n",
            "  chapter 7 has 5259 words\n",
            "  chapter 8 has 5804 words\n",
            "  chapter 9 has 7175 words\n",
            "  chapter 10 has 3165 words\n",
            "  chapter 11 has 3235 words\n",
            "  chapter 12 has 5446 words\n",
            "  chapter 13 has 3896 words\n",
            "  chapter 14 has 4840 words\n",
            "  chapter 15 has 5247 words\n",
            "  chapter 16 has 6078 words\n",
            "  chapter 17 has 4066 words\n",
            "  chapter 18 has 6607 words\n",
            "  chapter 19 has 6342 words\n",
            "  chapter 20 has 7081 words\n",
            "  chapter 21 has 5556 words\n",
            "  chapter 22 has 4450 words\n",
            "  chapter 23 has 8142 words\n",
            "  chapter 24 has 6181 words\n",
            "  chapter 25 has 5501 words\n",
            "  chapter 26 has 8008 words\n",
            "  chapter 27 has 6989 words\n",
            "  chapter 28 has 7303 words\n",
            "  chapter 29 has 4334 words\n",
            "  chapter 30 has 6253 words\n",
            "  chapter 31 has 7910 words\n",
            "  chapter 32 has 2007 words\n",
            "  chapter 33 has 3931 words\n",
            "  chapter 34 has 2892 words\n",
            "  chapter 35 has 5819 words\n",
            "  chapter 36 has 6133 words\n",
            "  chapter 37 has 5100 words\n",
            "  -> Shortest chapter in this book: chapter 32 (2007 words)\n",
            "  -> Longest chapter in this book: chapter 23 (8142 words)\n",
            "\n",
            "book_4 has 30 chapters\n",
            "  chapter 1 has 5038 words\n",
            "  chapter 2 has 4810 words\n",
            "  chapter 3 has 4716 words\n",
            "  chapter 4 has 5892 words\n",
            "  chapter 5 has 5883 words\n",
            "  chapter 6 has 5875 words\n",
            "  chapter 7 has 6464 words\n",
            "  chapter 8 has 4275 words\n",
            "  chapter 9 has 5841 words\n",
            "  chapter 10 has 5944 words\n",
            "  chapter 11 has 5095 words\n",
            "  chapter 12 has 5360 words\n",
            "  chapter 13 has 5351 words\n",
            "  chapter 14 has 6467 words\n",
            "  chapter 15 has 5763 words\n",
            "  chapter 16 has 6059 words\n",
            "  chapter 17 has 6311 words\n",
            "  chapter 18 has 6487 words\n",
            "  chapter 19 has 6174 words\n",
            "  chapter 20 has 6503 words\n",
            "  chapter 21 has 5703 words\n",
            "  chapter 22 has 5739 words\n",
            "  chapter 23 has 5701 words\n",
            "  chapter 24 has 5903 words\n",
            "  chapter 25 has 4970 words\n",
            "  chapter 26 has 6261 words\n",
            "  chapter 27 has 4448 words\n",
            "  chapter 28 has 3583 words\n",
            "  chapter 29 has 5434 words\n",
            "  chapter 30 has 5587 words\n",
            "  -> Shortest chapter in this book: chapter 28 (3583 words)\n",
            "  -> Longest chapter in this book: chapter 20 (6503 words)\n",
            "\n",
            "book_5 has 38 chapters\n",
            "  chapter 1 has 5750 words\n",
            "  chapter 2 has 6019 words\n",
            "  chapter 3 has 5223 words\n",
            "  chapter 4 has 5670 words\n",
            "  chapter 5 has 5345 words\n",
            "  chapter 6 has 6748 words\n",
            "  chapter 7 has 4564 words\n",
            "  chapter 8 has 4172 words\n",
            "  chapter 9 has 7993 words\n",
            "  chapter 10 has 5780 words\n",
            "  chapter 11 has 5950 words\n",
            "  chapter 12 has 8294 words\n",
            "  chapter 13 has 8829 words\n",
            "  chapter 14 has 8039 words\n",
            "  chapter 15 has 6719 words\n",
            "  chapter 16 has 5877 words\n",
            "  chapter 17 has 6570 words\n",
            "  chapter 18 has 6854 words\n",
            "  chapter 19 has 6666 words\n",
            "  chapter 20 has 5987 words\n",
            "  chapter 21 has 7291 words\n",
            "  chapter 22 has 7978 words\n",
            "  chapter 23 has 7368 words\n",
            "  chapter 24 has 8007 words\n",
            "  chapter 25 has 8054 words\n",
            "  chapter 26 has 8499 words\n",
            "  chapter 27 has 7427 words\n",
            "  chapter 28 has 7973 words\n",
            "  chapter 29 has 7401 words\n",
            "  chapter 30 has 8219 words\n",
            "  chapter 31 has 7943 words\n",
            "  chapter 32 has 6126 words\n",
            "  chapter 33 has 3840 words\n",
            "  chapter 34 has 5220 words\n",
            "  chapter 35 has 7728 words\n",
            "  chapter 36 has 3786 words\n",
            "  chapter 37 has 7902 words\n",
            "  chapter 38 has 7759 words\n",
            "  -> Shortest chapter in this book: chapter 36 (3786 words)\n",
            "  -> Longest chapter in this book: chapter 13 (8829 words)\n",
            "\n",
            "book_6 has 22 chapters\n",
            "  chapter 1 has 3683 words\n",
            "  chapter 2 has 3840 words\n",
            "  chapter 3 has 4357 words\n",
            "  chapter 4 has 5077 words\n",
            "  chapter 5 has 6533 words\n",
            "  chapter 6 has 6672 words\n",
            "  chapter 7 has 4213 words\n",
            "  chapter 8 has 5008 words\n",
            "  chapter 9 has 5243 words\n",
            "  chapter 10 has 7009 words\n",
            "  chapter 11 has 5529 words\n",
            "  chapter 12 has 4750 words\n",
            "  chapter 13 has 4226 words\n",
            "  chapter 14 has 5497 words\n",
            "  chapter 15 has 5484 words\n",
            "  chapter 16 has 4343 words\n",
            "  chapter 17 has 4164 words\n",
            "  chapter 18 has 2237 words\n",
            "  chapter 19 has 5056 words\n",
            "  chapter 20 has 1924 words\n",
            "  chapter 21 has 7210 words\n",
            "  chapter 22 has 4892 words\n",
            "  -> Shortest chapter in this book: chapter 20 (1924 words)\n",
            "  -> Longest chapter in this book: chapter 21 (7210 words)\n",
            "\n",
            "book_7 has 17 chapters\n",
            "  chapter 1 has 4569 words\n",
            "  chapter 2 has 3436 words\n",
            "  chapter 3 has 3833 words\n",
            "  chapter 4 has 3640 words\n",
            "  chapter 5 has 6511 words\n",
            "  chapter 6 has 6235 words\n",
            "  chapter 7 has 4443 words\n",
            "  chapter 8 has 3042 words\n",
            "  chapter 9 has 4896 words\n",
            "  chapter 10 has 4275 words\n",
            "  chapter 11 has 3311 words\n",
            "  chapter 12 has 5454 words\n",
            "  chapter 13 has 3171 words\n",
            "  chapter 14 has 3444 words\n",
            "  chapter 15 has 5096 words\n",
            "  chapter 16 has 6371 words\n",
            "  chapter 17 has 5355 words\n",
            "  -> Shortest chapter in this book: chapter 8 (3042 words)\n",
            "  -> Longest chapter in this book: chapter 5 (6511 words)\n",
            "\n",
            "Overall shortest chapter: book_6, chapter 20 (1924 words)\n",
            "Overall longest chapter: book_2, chapter 36 (8982 words)\n"
          ]
        }
      ],
      "source": [
        "import re\n",
        "\n",
        "# เก็บข้อมูล chapter ที่สั้นที่สุดและยาวที่สุดของทุกเล่ม\n",
        "shortest_chapter_overall = {\"book\": None, \"chapter\": None, \"words\": float('inf')}\n",
        "longest_chapter_overall = {\"book\": None, \"chapter\": None, \"words\": 0}\n",
        "\n",
        "for i, book in enumerate(books, 0):\n",
        "    # สร้าง pattern ไล่ลำดับ\n",
        "    chapters = []\n",
        "    current_pos = 0\n",
        "    chapter_num = 1\n",
        "\n",
        "    while True:\n",
        "        next_chapter_pattern = f'chapter {chapter_num}'\n",
        "        match = re.search(next_chapter_pattern, book[current_pos:], re.IGNORECASE)\n",
        "        if not match:\n",
        "            remaining_text = book[current_pos:].strip()\n",
        "            if remaining_text:\n",
        "                chapters.append(remaining_text)\n",
        "            break\n",
        "        start = current_pos + match.start()\n",
        "\n",
        "        if chapter_num > 1:\n",
        "            chapters.append(book[current_pos:start].strip())\n",
        "\n",
        "        current_pos = start\n",
        "        chapter_num += 1\n",
        "\n",
        "    if i > 0:\n",
        "        print(f\"book_{i} has {len(chapters)} chapters\")\n",
        "\n",
        "        chapter_lengths = [len(ch.split()) for ch in chapters]\n",
        "\n",
        "        for j, length in enumerate(chapter_lengths, 1):\n",
        "            print(f\"  chapter {j} has {length} words\")\n",
        "            # update the shortest chapter\n",
        "            if length < shortest_chapter_overall[\"words\"]:\n",
        "                shortest_chapter_overall = {\"book\": i, \"chapter\": j, \"words\": length}\n",
        "            # update the longest chapter\n",
        "            if length > longest_chapter_overall[\"words\"]:\n",
        "                longest_chapter_overall = {\"book\": i, \"chapter\": j, \"words\": length}\n",
        "\n",
        "        # Check chapter is the shortest and which is the longest each books\n",
        "        min_length = min(chapter_lengths)\n",
        "        max_length = max(chapter_lengths)\n",
        "        min_index = chapter_lengths.index(min_length) + 1\n",
        "        max_index = chapter_lengths.index(max_length) + 1\n",
        "\n",
        "        if min_length != max_length:\n",
        "            print(f\"  -> Shortest chapter in this book: chapter {min_index} ({min_length} words)\")\n",
        "            print(f\"  -> Longest chapter in this book: chapter {max_index} ({max_length} words)\")\n",
        "\n",
        "        print()\n",
        "\n",
        "# Check chapter is the shortest and which is the longest all books\n",
        "print(f\"Overall shortest chapter: book_{shortest_chapter_overall['book']}, \"\n",
        "      f\"chapter {shortest_chapter_overall['chapter']} \"\n",
        "      f\"({shortest_chapter_overall['words']} words)\")\n",
        "\n",
        "print(f\"Overall longest chapter: book_{longest_chapter_overall['book']}, \"\n",
        "      f\"chapter {longest_chapter_overall['chapter']} \"\n",
        "      f\"({longest_chapter_overall['words']} words)\")"
      ]
    },
    {
      "cell_type": "markdown",
      "metadata": {
        "id": "WAoJc4gIObWZ"
      },
      "source": [
        "## Find the characters\n"
      ]
    },
    {
      "cell_type": "code",
      "execution_count": 306,
      "metadata": {
        "colab": {
          "base_uri": "https://localhost:8080/"
        },
        "id": "jxYk9WQjiz0n",
        "outputId": "8e0e323b-0f61-4a7c-9fb8-ebd1d32be7f1"
      },
      "outputs": [
        {
          "name": "stdout",
          "output_type": "stream",
          "text": [
            "HARRY occurences is 18254 times.\n",
            "RON occurences is 8200 times.\n",
            "HERMIONE occurences is 5365 times.\n",
            "DOBBY occurences is 470 times.\n",
            "MALFOY occurences is 1363 times.\n",
            "VOLDEMORT|YOU KNOW WHO occurences is 1266 times.\n",
            "SNAPE occurences is 1829 times.\n",
            "DUMBLEDORE occurences is 3375 times.\n",
            "HAGRID occurences is 2044 times.\n",
            "SIRIUS occurences is 1137 times.\n"
          ]
        }
      ],
      "source": [
        "characters = ['harry', 'ron', 'hermione', 'dobby', 'malfoy', 'voldemort|you know who', 'snape', 'dumbledore', 'hagrid', 'sirius']\n",
        "\n",
        "for name in characters:\n",
        "    matches = re.findall(name, cleaned_text)\n",
        "    print(f\"{name.upper()} occurences is {len(matches)} times.\")"
      ]
    },
    {
      "cell_type": "markdown",
      "metadata": {
        "id": "IOju73BwdHeB"
      },
      "source": [
        "---\n",
        "<b><div style=color:hotpink;text-align:center;font-size:20>\n",
        "    <div>Punchaya Chancharoen</div>\n",
        "    <div>65070507236</div>\n",
        "</div></b>"
      ]
    }
  ],
  "metadata": {
    "colab": {
      "collapsed_sections": [
        "l58AT0kVvjSc",
        "mkvEx6gRB4Xa",
        "HFfkOEn8vY3x"
      ],
      "provenance": [],
      "toc_visible": true
    },
    "kernelspec": {
      "display_name": "Python 3.11.1 64-bit",
      "language": "python",
      "name": "python3"
    },
    "language_info": {
      "codemirror_mode": {
        "name": "ipython",
        "version": 3
      },
      "file_extension": ".py",
      "mimetype": "text/x-python",
      "name": "python",
      "nbconvert_exporter": "python",
      "pygments_lexer": "ipython3",
      "version": "3.11.1"
    },
    "vscode": {
      "interpreter": {
        "hash": "aee8b7b246df8f9039afb4144a1f6fd8d2ca17a180786b69acc140d282b71a49"
      }
    }
  },
  "nbformat": 4,
  "nbformat_minor": 0
}
